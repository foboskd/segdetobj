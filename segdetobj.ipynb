{
 "cells": [
  {
   "cell_type": "markdown",
   "id": "9bc5cdf6-f053-4c9c-b566-211cb493df95",
   "metadata": {},
   "source": [
    "# Домашнее задание «Сегментация и детекция объектов»"
   ]
  },
  {
   "cell_type": "markdown",
   "id": "3d7815fb-ab9a-44f0-9655-a838e0ba9a3a",
   "metadata": {},
   "source": [
    "## Распознавание рукописного ввода на примере базы MNIST"
   ]
  },
  {
   "cell_type": "markdown",
   "id": "95f711b5-0ea2-4582-ac09-ab365ff8813f",
   "metadata": {},
   "source": [
    "Построить классификатор изображений рукописного ввода на базе MNIST. В качестве шаблона в данной работе можно использовать ipython-ноутбук 002-digit.ipynb.\n",
    "\n",
    "Классификатор предлагается строить на признаках, полученных в результате предобработки изображений, например, гистограммы градиентов (HOG) или результат PCA преобразования.\n",
    "\n",
    "В качестве модели классификатора можно использовать любую известную Вам модель, за исключением сверточных нейронных сетей.\n",
    "\n",
    "Критерием качества классификатора является метрика accuracy. Для получения зачета по данной работе, значение метрики accuracy должно быть больше 0.6. Метрика оценивается на тестовой выборке в рамках контеста Digit Recognizer на Kaggle.\n",
    "\n",
    "Решение необходимо предоставить в виде ipython-ноутбука с реализацией процесса построения модели и скриншота с финальным результатом на Kaggle."
   ]
  },
  {
   "cell_type": "code",
   "execution_count": 5,
   "id": "fddddb5a-122f-422f-8da7-12b0e8d53c46",
   "metadata": {},
   "outputs": [
    {
     "name": "stderr",
     "output_type": "stream",
     "text": [
      "100%|██████████| 33600/33600 [00:01<00:00, 19744.59it/s]\n",
      "100%|██████████| 8400/8400 [00:00<00:00, 19511.80it/s]\n"
     ]
    },
    {
     "name": "stdout",
     "output_type": "stream",
     "text": [
      "Validation accuracy: 0.8404\n"
     ]
    }
   ],
   "source": [
    "# импорт библиотек\n",
    "import numpy as np\n",
    "import pandas as pd\n",
    "from sklearn.model_selection import train_test_split\n",
    "from sklearn.preprocessing import StandardScaler\n",
    "from sklearn.svm import SVC\n",
    "from sklearn.metrics import accuracy_score\n",
    "from skimage.feature import hog\n",
    "from tqdm import tqdm\n",
    "\n",
    "# загрузка данных\n",
    "\n",
    "train = pd.read_csv(\"train.csv\")\n",
    "test = pd.read_csv(\"test.csv\")\n",
    "\n",
    "X = train.drop(\"label\", axis=1).values\n",
    "y = train[\"label\"].values\n",
    "\n",
    "# разделение на обучающую и тестовую выборку\n",
    "X_train, X_valid, y_train, y_valid = train_test_split(X, y, test_size=0.2, random_state=42)\n",
    "\n",
    "# функция извлечения HOG-признаков\n",
    "def extract_hog_features(images):\n",
    "    hog_features = []\n",
    "    for img in tqdm(images):\n",
    "        img_reshaped = img.reshape((28, 28))\n",
    "        features = hog(img_reshaped,\n",
    "                       orientations=9,\n",
    "                       pixels_per_cell=(8, 8),\n",
    "                       cells_per_block=(2, 2),\n",
    "                       block_norm='L2-Hys')\n",
    "        hog_features.append(features)\n",
    "    return np.array(hog_features)\n",
    "\n",
    "# извлечение признаков\n",
    "X_train_hog = extract_hog_features(X_train)\n",
    "X_valid_hog = extract_hog_features(X_valid)\n",
    "\n",
    "# стандартизация\n",
    "scaler = StandardScaler()\n",
    "X_train_hog = scaler.fit_transform(X_train_hog)\n",
    "X_valid_hog = scaler.transform(X_valid_hog)\n",
    "\n",
    "# обучение модели\n",
    "clf = SVC(kernel='rbf', C=10, gamma=0.05)\n",
    "clf.fit(X_train_hog, y_train)\n",
    "\n",
    "# оценка точности\n",
    "y_pred = clf.predict(X_valid_hog)\n",
    "acc = accuracy_score(y_valid, y_pred)\n",
    "print(f\"Validation accuracy: {acc:.4f}\")"
   ]
  },
  {
   "cell_type": "code",
   "execution_count": 6,
   "id": "99bfe46e-38e5-47c4-8cd6-84c9c77c010a",
   "metadata": {},
   "outputs": [
    {
     "name": "stderr",
     "output_type": "stream",
     "text": [
      "100%|██████████| 28000/28000 [00:01<00:00, 18083.07it/s]\n"
     ]
    },
    {
     "name": "stdout",
     "output_type": "stream",
     "text": [
      "Готово\n"
     ]
    }
   ],
   "source": [
    "# извлечение признаков для тестовых данных\n",
    "X_test = test.values\n",
    "X_test_hog = extract_hog_features(X_test)\n",
    "X_test_hog = scaler.transform(X_test_hog)\n",
    "\n",
    "# предсказания\n",
    "y_test_pred = clf.predict(X_test_hog)\n",
    "\n",
    "# формирукм файл\n",
    "submission = pd.DataFrame({\n",
    "    \"ImageId\": np.arange(1, len(y_test_pred)+1),\n",
    "    \"Label\": y_test_pred\n",
    "})\n",
    "submission.to_csv(\"submission.csv\", index=False)\n",
    "print(\"Готово\")"
   ]
  },
  {
   "cell_type": "code",
   "execution_count": null,
   "id": "7413a0a0-0302-4fb6-b00b-b393cf19bdab",
   "metadata": {},
   "outputs": [],
   "source": []
  }
 ],
 "metadata": {
  "kernelspec": {
   "display_name": "Python 3 (ipykernel)",
   "language": "python",
   "name": "python3"
  },
  "language_info": {
   "codemirror_mode": {
    "name": "ipython",
    "version": 3
   },
   "file_extension": ".py",
   "mimetype": "text/x-python",
   "name": "python",
   "nbconvert_exporter": "python",
   "pygments_lexer": "ipython3",
   "version": "3.10.17"
  }
 },
 "nbformat": 4,
 "nbformat_minor": 5
}
